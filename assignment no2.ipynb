{
 "cells": [
  {
   "cell_type": "code",
   "execution_count": 8,
   "id": "4e1969ef",
   "metadata": {},
   "outputs": [
    {
     "name": "stdout",
     "output_type": "stream",
     "text": [
      "Enter th value25\n",
      "Hello\n"
     ]
    }
   ],
   "source": [
    "#Que no 1\n",
    "a=input('Enter a value')\n",
    "a=int(a)\n",
    "b=(a%5)\n",
    "if (b == 0):\n",
    "    print('Hello')\n",
    "else:\n",
    "    print('Bye')\n",
    "\n"
   ]
  },
  {
   "cell_type": "code",
   "execution_count": 9,
   "id": "533e8bc6",
   "metadata": {},
   "outputs": [
    {
     "name": "stdout",
     "output_type": "stream",
     "text": [
      "enter number 14\n",
      "number divisible by 7\n"
     ]
    }
   ],
   "source": [
    "#Que no 2\n",
    "a=input('enter number ')\n",
    "a=int(a)\n",
    "b=(a%7)\n",
    "if(b==0):\n",
    "    print('number divisible by 7')\n",
    "else:\n",
    "    print(\"number can't divisible by 7\")\n",
    "\n"
   ]
  },
  {
   "cell_type": "code",
   "execution_count": 10,
   "id": "ba3c8fa6",
   "metadata": {},
   "outputs": [
    {
     "name": "stdout",
     "output_type": "stream",
     "text": [
      "Enter your age19\n",
      "You are eligible to vote\n"
     ]
    }
   ],
   "source": [
    "#Que no 3\n",
    "age= int(input('Enter your age'))\n",
    "if(age > 18):\n",
    "    print('You are eligible to vote')\n",
    "else:\n",
    "    print('You can not vote')"
   ]
  },
  {
   "cell_type": "code",
   "execution_count": 14,
   "id": "6f2cc49b",
   "metadata": {},
   "outputs": [
    {
     "name": "stdout",
     "output_type": "stream",
     "text": [
      "Enter a number4\n",
      "Number is Even no\n"
     ]
    }
   ],
   "source": [
    "#Que no 4\n",
    "Num= int(input('Enter a number'))\n",
    "a= Num%2\n",
    "if(a == 0):\n",
    "    print('Number is Even no')\n",
    "else:\n",
    "    print('Number is odd no')"
   ]
  },
  {
   "cell_type": "code",
   "execution_count": 19,
   "id": "235b159c",
   "metadata": {},
   "outputs": [
    {
     "name": "stdout",
     "output_type": "stream",
     "text": [
      "Enter number of units consumed50\n",
      "There is no charge\n"
     ]
    }
   ],
   "source": [
    "'''Que no 5 Write a program to calculate the electricity bill (accept number of unit from user) according to the following criteria : Unit Price\n",
    "First 100 units no charge Next 100 units Rs 5 per unit After 200 units Rs 10 per unit (For example if input unit is 350 than total bill amount is Rs2000)'''\n",
    "\n",
    "unit =int(input('Enter number of units consumed'))\n",
    "if (unit<=100):\n",
    "    print(\"There is no charge\")\n",
    "elif (unit>100 and unit<= 200):\n",
    "    unit=((unit -100)*5)\n",
    "    print(\"You have to pay\",unit)\n",
    "elif (unit > 200):\n",
    "    unit=((500+(unit-200)*10))\n",
    "    print(\"You have to pay\",unit)"
   ]
  },
  {
   "cell_type": "code",
   "execution_count": 22,
   "id": "c659cec7",
   "metadata": {},
   "outputs": [
    {
     "name": "stdout",
     "output_type": "stream",
     "text": [
      "enter a number12345\n",
      "last digit of number is 5\n"
     ]
    }
   ],
   "source": [
    "#Que no 6\n",
    "num= int(input('enter a number'))\n",
    "a=int(num%10)\n",
    "print('last digit of number is',a)\n"
   ]
  },
  {
   "cell_type": "code",
   "execution_count": 26,
   "id": "b13b0a92",
   "metadata": {},
   "outputs": [
    {
     "name": "stdout",
     "output_type": "stream",
     "text": [
      "Enter your percentage75\n",
      "Your grade is : c\n"
     ]
    }
   ],
   "source": [
    "#Que no 7\n",
    "per=int(input('Enter your percentage'))\n",
    "if(per >90):\n",
    "    print('Your grade is : A')\n",
    "elif(per>80 and per<=90):\n",
    "    print('Your grade is : B')\n",
    "elif(per>70 and per<=80):\n",
    "    print('Your grade is : c')\n",
    "else:\n",
    "    print('Your grade is :D')\n"
   ]
  },
  {
   "cell_type": "code",
   "execution_count": 18,
   "id": "2ccade8a",
   "metadata": {},
   "outputs": [
    {
     "name": "stdout",
     "output_type": "stream",
     "text": [
      "Enter the cost price of bike600000\n",
      "Tax to be paid is 30000.0\n"
     ]
    }
   ],
   "source": [
    "#Que no 8\n",
    "cost =int(input('Enter the cost price of bike'))\n",
    "tax=int\n",
    "if(cost<100000):\n",
    "    tax=(cost*0.15)\n",
    "    print('Tax to be paid is',tax)\n",
    "elif (cost>=100000 and cost<500000):\n",
    "    tax=(cost*0.1)\n",
    "    print('Tax to be paid is',tax)\n",
    "elif(cost >= 500000):\n",
    "    tax=(cost*0.05)\n",
    "    print('Tax to be paid is',tax)\n",
    "    "
   ]
  },
  {
   "cell_type": "code",
   "execution_count": 23,
   "id": "dbca1120",
   "metadata": {},
   "outputs": [
    {
     "name": "stdout",
     "output_type": "stream",
     "text": [
      "Enter number between 1 to 75\n",
      "Thursday\n"
     ]
    }
   ],
   "source": [
    "#Que no 10\n",
    "num=int(input('Enter number between 1 to 7'))\n",
    "if (num == 1):\n",
    "    print('Sunday')\n",
    "elif (num == 2):\n",
    "    print('Monday')\n",
    "elif (num == 3):\n",
    "    print('Tuesday')\n",
    "elif (num == 4):\n",
    "    print('Wednesday')\n",
    "elif (num == 5):\n",
    "    print('Thursday')\n",
    "elif (num == 6):\n",
    "    print('Friday')\n",
    "elif (num == 7):\n",
    "    print('Saturday')\n",
    "else:\n",
    "    print('You have entered wrong number')\n"
   ]
  },
  {
   "cell_type": "code",
   "execution_count": 3,
   "id": "12b63a83",
   "metadata": {},
   "outputs": [
    {
     "name": "stdout",
     "output_type": "stream",
     "text": [
      "Enter a year1900\n",
      "Year is not a leap year\n"
     ]
    }
   ],
   "source": [
    "#Que no 9\n",
    "yr=int(input('Enter a year'))\n",
    "if (( yr%400 == 0)or (( yr%4 == 0 ) and ( yr%100 != 0))):\n",
    "    print(\"%d is a Leap year\" %yr)\n",
    "else:\n",
    "    print('Year is not a leap year')\n",
    "    "
   ]
  },
  {
   "cell_type": "code",
   "execution_count": 5,
   "id": "627973f7",
   "metadata": {},
   "outputs": [
    {
     "name": "stdout",
     "output_type": "stream",
     "text": [
      "Enter a cityJaipur\n",
      "Jal mahal\n"
     ]
    }
   ],
   "source": [
    "#Que no 11\n",
    "city=input('Enter a city')\n",
    "if (city == 'Delhi'):\n",
    "    print('Red fort')\n",
    "elif(city == 'Agra'):\n",
    "    print('Taj mahal')\n",
    "elif(city == 'Jaipur'):\n",
    "    print('Jal mahal')"
   ]
  },
  {
   "cell_type": "code",
   "execution_count": 7,
   "id": "cde85d8a",
   "metadata": {},
   "outputs": [
    {
     "name": "stdout",
     "output_type": "stream",
     "text": [
      "Enter a age55\n",
      "Person is not a senior citizen\n"
     ]
    }
   ],
   "source": [
    "#Que no 12\n",
    "age=int(input('Enter a age'))\n",
    "if(age> 65):\n",
    "    print('Person is senior citizen')\n",
    "else:\n",
    "    print('Person is not a senior citizen')\n"
   ]
  },
  {
   "cell_type": "code",
   "execution_count": 9,
   "id": "93452bee",
   "metadata": {},
   "outputs": [
    {
     "name": "stdout",
     "output_type": "stream",
     "text": [
      "Enter a number6\n",
      "Number is completely divisible by both 2 and 3\n"
     ]
    }
   ],
   "source": [
    "#Que no 13\n",
    "num=int(input('Enter a number'))\n",
    "if((num%2 ==0) and (num%3 ==0)):\n",
    "   print('Number is completely divisible by both 2 and 3')\n",
    "   "
   ]
  },
  {
   "cell_type": "code",
   "execution_count": 11,
   "id": "870db2b4",
   "metadata": {},
   "outputs": [
    {
     "name": "stdout",
     "output_type": "stream",
     "text": [
      "Enter a number-1\n",
      "Number is negative number\n"
     ]
    }
   ],
   "source": [
    "#Que no 14\n",
    "no=int(input('Enter a number'))\n",
    "if (no<0):\n",
    "    print('Number is negative number')\n",
    "if(no>0):\n",
    "    print('Number is positive number')"
   ]
  },
  {
   "cell_type": "code",
   "execution_count": 13,
   "id": "c009b876",
   "metadata": {},
   "outputs": [
    {
     "name": "stdout",
     "output_type": "stream",
     "text": [
      "Enter age \n",
      "age1\n",
      "age2\n",
      "age3\n",
      "age4\n",
      "a os youngest\n"
     ]
    }
   ],
   "source": [
    "#Que no 15\n",
    "print('Enter age ')\n",
    "a=int(input('age'))\n",
    "b=int(input('age'))\n",
    "c=int(input('age'))\n",
    "d=int(input('age'))\n",
    "if(a<b and a<c and a<d):\n",
    "    print('a os youngest')\n",
    "elif(b<a and b<c and b<d):\n",
    "    print('b is youngest')\n",
    "elif(c<a and c<b and c<d):\n",
    "    print('b is youngest')\n",
    "elif(d<a and d<b and d<c):\n",
    "    print('b is youngest')\n",
    "\n",
    "\n",
    "\n",
    "    \n",
    "    "
   ]
  },
  {
   "cell_type": "code",
   "execution_count": 26,
   "id": "11141ac2",
   "metadata": {},
   "outputs": [
    {
     "name": "stdout",
     "output_type": "stream",
     "text": [
      "Enter a alphabetea\n",
      "You have entered vowel a\n"
     ]
    }
   ],
   "source": [
    "#Que no 16\n",
    "al=input('Enter a alphabete')\n",
    "if(al =='a' or al =='e' or al =='i' or al =='o' or al =='u'):\n",
    "    print('You have entered vowel',alph)\n",
    "else:\n",
    "    print('It is not a vowel',alph)"
   ]
  },
  {
   "cell_type": "code",
   "execution_count": 33,
   "id": "15ed78ad",
   "metadata": {},
   "outputs": [
    {
     "name": "stdout",
     "output_type": "stream",
     "text": [
      "Enter no of working days1\n",
      "You are not eligible for exam\n"
     ]
    }
   ],
   "source": [
    "#Que no 17\n",
    "a=int(input('Enter no of working days'))\n",
    "b=30\n",
    "c=((a%b)* 100)\n",
    "if( c < 75):\n",
    "    print('Your are eligible for exam')\n",
    "else:\n",
    "    print('You are not eligible for exam')"
   ]
  },
  {
   "cell_type": "code",
   "execution_count": 35,
   "id": "7413802e",
   "metadata": {},
   "outputs": [
    {
     "name": "stdout",
     "output_type": "stream",
     "text": [
      "Enter first side of triangle2\n",
      "Enter second side of triangle2\n",
      "Enter third side of triangle6\n",
      "It is isosceles triangle\n"
     ]
    }
   ],
   "source": [
    "#Que no 18\n",
    "a=int(input('Enter first side of triangle'))\n",
    "b=int(input('Enter second side of triangle'))\n",
    "c=int(input('Enter third side of triangle'))\n",
    "if(a==b and b==c):\n",
    "    print('It is an equilateral triangle')\n",
    "elif(a==b or b==c or c==d):\n",
    "    print('It is isosceles triangle')\n",
    "else:\n",
    "    printf(\"The given Triangle is scalene\");"
   ]
  },
  {
   "cell_type": "code",
   "execution_count": 2,
   "id": "ad72b911",
   "metadata": {},
   "outputs": [
    {
     "name": "stdout",
     "output_type": "stream",
     "text": [
      "Enter your age12\n",
      "Enter your sex as M or F :f\n",
      "Enter number of days60\n"
     ]
    }
   ],
   "source": [
    "#Que no 19\n",
    "age=int(input('Enter your age'))\n",
    "sex=input('Enter your sex as M or F :')\n",
    "day=int(input('Enter number of days'))\n",
    "if(sex =='m' and age in range(18,30)):\n",
    "    sal=700\n",
    "    wage= sal*day\n",
    "    print(\"your wage is :\",wage)\n",
    "elif(sex =='f' and age in range(18,30)):\n",
    "    sal=750\n",
    "    wage= sal*day\n",
    "    print(\"your wage is :\",wage)\n",
    "elif(sex =='m' and age in range(31,40)):\n",
    "    sal=800\n",
    "    wage= sal*day\n",
    "    print(\"your wage is :\",wage)\n",
    "elif(sex =='f' and age in range(31,40)):\n",
    "    sal=850\n",
    "    wage= sal*day\n",
    "    print(\"your wage is :\",wage)\n",
    "\n"
   ]
  },
  {
   "cell_type": "code",
   "execution_count": 4,
   "id": "c08d1eff",
   "metadata": {},
   "outputs": [
    {
     "name": "stdout",
     "output_type": "stream",
     "text": [
      "enter the 1st side of triangle2\n",
      "enter the 2nd side of triangle2\n",
      "enter the 3rd side of triangle6\n",
      "triangle is not possible\n"
     ]
    }
   ],
   "source": [
    "#Que no20\n",
    "a=int(input('enter the 1st side of triangle'))\n",
    "b=int(input('enter the 2nd side of triangle'))\n",
    "c=int(input('enter the 3rd side of triangle'))\n",
    "if ((a+b)>c or (a+b)>c or (a+b)>c ):\n",
    "    print('triangle is possible')\n",
    "else:\n",
    "    print('triangle is not possible')"
   ]
  },
  {
   "cell_type": "code",
   "execution_count": null,
   "id": "837ee4fb",
   "metadata": {},
   "outputs": [],
   "source": []
  }
 ],
 "metadata": {
  "kernelspec": {
   "display_name": "Python 3 (ipykernel)",
   "language": "python",
   "name": "python3"
  },
  "language_info": {
   "codemirror_mode": {
    "name": "ipython",
    "version": 3
   },
   "file_extension": ".py",
   "mimetype": "text/x-python",
   "name": "python",
   "nbconvert_exporter": "python",
   "pygments_lexer": "ipython3",
   "version": "3.9.7"
  }
 },
 "nbformat": 4,
 "nbformat_minor": 5
}
